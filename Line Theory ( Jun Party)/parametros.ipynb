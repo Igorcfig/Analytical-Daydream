{
 "cells": [
  {
   "cell_type": "code",
   "execution_count": 3,
   "metadata": {},
   "outputs": [],
   "source": [
    "## import tables\n",
    "import numpy as npa\n"
   ]
  },
  {
   "cell_type": "code",
   "execution_count": 52,
   "metadata": {},
   "outputs": [],
   "source": [
    "size = 180\n",
    "max_pessoas = 1000\n",
    "mu = max_pessoas/2\n",
    "std = mu*50/100\n",
    "\n",
    "\n",
    "people_flow = np.round(np.random.normal(mu, std, size))\n",
    "people_flow = list(people_flow)\n",
    "people_flow = [int(x) for x in people_flow]\n",
    "# people_flow.sort()\n",
    "# [int(x) for x in people_flow]"
   ]
  },
  {
   "cell_type": "code",
   "execution_count": 53,
   "metadata": {},
   "outputs": [
    {
     "name": "stdout",
     "output_type": "stream",
     "text": [
      "[343, 776, 896, 1125, 746, 782, 571, 377, 475, 686, 701, 783, 333, -64, 653, 965, 565, 586, 792, 552, 263, 732, 591, 983, 107, 699, 124, 518, 1226, 431, 814, 449, 644, 433, 611, 378, 520, 326, 337, 510, 628, 746, 717, 415, 438, 376, 465, 689, 1120, 476, 585, 530, 990, 529, 480, 712, 260, 707, 513, 628, -12, 710, 958, 573, 397, 665, 266, 412, 185, 459, 730, 251, 347, 313, 587, 775, 376, 177, 710, 548, 623, 580, 885, 406, 266, 310, 735, 594, 993, 574, 263, 675, 543, 384, 968, 507, 313, 542, 849, 644, 867, 1097, 343, 483, 259, 377, 485, 540, 802, 350, 396, 454, 109, 289, 535, 273, 387, 794, 444, 662, 648, 950, 596, 506, 525, 407, 378, 213, 707, 68, 274, 722, 373, 521, 554, 571, 232, 336, 747, 820, 415, 1066, 505, 677, 960, 602, 6, 376, 978, 609, 642, 804, 313, 912, 579, 1247, 639, 420, 257, 682, 685, 615, 600, 117, 139, 531, 401, 1115, 539, 737, 666, 745, 224, 597, 641, 3, 288, 808, 958, 764]\n"
     ]
    }
   ],
   "source": [
    "print(people_flow)"
   ]
  },
  {
   "cell_type": "code",
   "execution_count": null,
   "metadata": {},
   "outputs": [],
   "source": []
  }
 ],
 "metadata": {
  "kernelspec": {
   "display_name": "Python 3",
   "language": "python",
   "name": "python3"
  },
  "language_info": {
   "codemirror_mode": {
    "name": "ipython",
    "version": 3
   },
   "file_extension": ".py",
   "mimetype": "text/x-python",
   "name": "python",
   "nbconvert_exporter": "python",
   "pygments_lexer": "ipython3",
   "version": "3.7.4"
  }
 },
 "nbformat": 4,
 "nbformat_minor": 2
}
